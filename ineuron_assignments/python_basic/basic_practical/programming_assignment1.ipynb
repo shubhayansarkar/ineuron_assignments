{
 "cells": [
  {
   "cell_type": "markdown",
   "metadata": {},
   "source": [
    "##### 1) Write a Python program to print &quot;Hello Python&quot;?"
   ]
  },
  {
   "cell_type": "code",
   "execution_count": 1,
   "metadata": {},
   "outputs": [
    {
     "name": "stdout",
     "output_type": "stream",
     "text": [
      "hello python\n"
     ]
    }
   ],
   "source": [
    "print('hello python')"
   ]
  },
  {
   "cell_type": "markdown",
   "metadata": {},
   "source": [
    "##### 2) Write a Python program to do arithmetical operations addition and division.?"
   ]
  },
  {
   "cell_type": "code",
   "execution_count": 2,
   "metadata": {},
   "outputs": [
    {
     "name": "stdout",
     "output_type": "stream",
     "text": [
      "enter your no1 1\n",
      "enter your no2 2\n",
      "the addition of 1 and 2 is : 3.0\n",
      "the division of 1 by 2 is : 0.5\n"
     ]
    }
   ],
   "source": [
    "a=input(\"enter your no1 \")\n",
    "b=input('enter your no2 ')\n",
    "print(f'the addition of {a} and {b} is :', (float(a)+float(b)))\n",
    "print(f'the division of {a} by {b} is :', (float(a)/float(b)))"
   ]
  },
  {
   "cell_type": "markdown",
   "metadata": {},
   "source": [
    "##### 3)Write a Python program to find the area of a triangle?"
   ]
  },
  {
   "cell_type": "code",
   "execution_count": 3,
   "metadata": {},
   "outputs": [
    {
     "name": "stdout",
     "output_type": "stream",
     "text": [
      "enter your height: 23\n",
      "enter your base: 12\n",
      "the area of the triangle is: {} 138.0\n"
     ]
    }
   ],
   "source": [
    "height=float(input('enter your height: '))\n",
    "base=float(input('enter your base: '))\n",
    "area=((height*base)/2)\n",
    "print(\"the area of the triangle is: {}\",format(area))"
   ]
  },
  {
   "cell_type": "markdown",
   "metadata": {},
   "source": [
    "##### 4) Write a Python program to swap two variables?"
   ]
  },
  {
   "cell_type": "code",
   "execution_count": 4,
   "metadata": {},
   "outputs": [
    {
     "name": "stdout",
     "output_type": "stream",
     "text": [
      "enter  number1 :1\n",
      "enter  number2 :2\n",
      "before swaping  v1 is 1.0 and v2 is 2.0\n",
      "after swaping v1 is 2.0 and v2 is 1.0\n"
     ]
    }
   ],
   "source": [
    "v1=float(input('enter  number1 :'))\n",
    "v2= float(input('enter  number2 :'))\n",
    "print(f'before swaping  v1 is {v1} and v2 is {v2}')\n",
    "temp=v1\n",
    "v1=v2\n",
    "v2=temp\n",
    "print(f\"after swaping v1 is {v1} and v2 is {v2}\")"
   ]
  },
  {
   "cell_type": "markdown",
   "metadata": {},
   "source": [
    "##### 5) Write a Python program to generate a random number?"
   ]
  },
  {
   "cell_type": "code",
   "execution_count": 9,
   "metadata": {},
   "outputs": [
    {
     "name": "stdout",
     "output_type": "stream",
     "text": [
      "enter a limit :32\n",
      "your random number :  28\n"
     ]
    }
   ],
   "source": [
    "import random\n",
    "i=float(input('enter a limit :'))\n",
    "print('your random number : ',random.randint(0,i))"
   ]
  },
  {
   "cell_type": "code",
   "execution_count": null,
   "metadata": {},
   "outputs": [],
   "source": []
  }
 ],
 "metadata": {
  "kernelspec": {
   "display_name": "Python 3",
   "language": "python",
   "name": "python3"
  },
  "language_info": {
   "codemirror_mode": {
    "name": "ipython",
    "version": 3
   },
   "file_extension": ".py",
   "mimetype": "text/x-python",
   "name": "python",
   "nbconvert_exporter": "python",
   "pygments_lexer": "ipython3",
   "version": "3.7.6"
  }
 },
 "nbformat": 4,
 "nbformat_minor": 4
}
