{
 "cells": [
  {
   "cell_type": "markdown",
   "metadata": {},
   "source": [
    "##### 1. Write a Python Program to Find the Factorial of a Number?"
   ]
  },
  {
   "cell_type": "code",
   "execution_count": null,
   "metadata": {},
   "outputs": [],
   "source": [
    "b=1\n",
    "a=int(input('enter :'))\n",
    "for i in range(1,a+1):\n",
    "    b=b*i\n",
    "        \n",
    "print(b)"
   ]
  },
  {
   "cell_type": "markdown",
   "metadata": {},
   "source": [
    "##### 2. Write a Python Program to Display the multiplication Table?"
   ]
  },
  {
   "cell_type": "code",
   "execution_count": null,
   "metadata": {},
   "outputs": [],
   "source": [
    "a=int(input('enter :'))\n",
    "for i in range(1,11):\n",
    "    print(f'{a} x {i} = {a*i}')"
   ]
  },
  {
   "cell_type": "markdown",
   "metadata": {},
   "source": [
    "##### 3. Write a Python Program to Print the Fibonacci sequence?"
   ]
  },
  {
   "cell_type": "code",
   "execution_count": 32,
   "metadata": {},
   "outputs": [
    {
     "name": "stdout",
     "output_type": "stream",
     "text": [
      "enter :7\n",
      "0\n",
      "1\n",
      "1\n",
      "2\n",
      "3\n",
      "5\n",
      "8\n"
     ]
    }
   ],
   "source": [
    "\n",
    "b=0\n",
    "c=1\n",
    "d=0\n",
    "i=0\n",
    "while True:\n",
    "    a=int(input('enter :'))\n",
    "    if a < 0:\n",
    "        print(\"Incorrect input\")\n",
    "        continue\n",
    "    elif a == 0:\n",
    "        print(0)\n",
    "        break\n",
    "    elif a == 1:\n",
    "        print(c) \n",
    "        break\n",
    "    else:\n",
    "        while i<a:\n",
    "            if i ==0:\n",
    "                d=0\n",
    "                print(d)\n",
    "                i+=1\n",
    "                \n",
    "                \n",
    "            else:\n",
    "                          \n",
    "                b=c\n",
    "                c=d\n",
    "                d=b+c\n",
    "                i+=1\n",
    "                print(d)\n",
    "                \n",
    "            \n",
    "        break"
   ]
  },
  {
   "cell_type": "markdown",
   "metadata": {},
   "source": [
    "# 4. Write a Python Program to Check Armstrong Number?"
   ]
  },
  {
   "cell_type": "code",
   "execution_count": 33,
   "metadata": {},
   "outputs": [
    {
     "name": "stdout",
     "output_type": "stream",
     "text": [
      "enter :153\n",
      "its a armstrong number\n"
     ]
    }
   ],
   "source": [
    "a=(input('enter :'))\n",
    "b=list(a)\n",
    "c=0\n",
    "t=0\n",
    "for i in (b):\n",
    "   c=int(i)**3\n",
    "   t=c+t\n",
    "   c=0\n",
    "   \n",
    "\n",
    "if (t == int(a)):\n",
    "    \n",
    "    \n",
    "    print('its a armstrong number')\n",
    "    \n",
    "else:\n",
    "    print(\"its not\")\n",
    "    \n"
   ]
  },
  {
   "cell_type": "markdown",
   "metadata": {},
   "source": []
  },
  {
   "cell_type": "markdown",
   "metadata": {},
   "source": [
    "##### 5. Write a Python Program to Find Armstrong Number in an Interval?"
   ]
  },
  {
   "cell_type": "code",
   "execution_count": 76,
   "metadata": {},
   "outputs": [
    {
     "name": "stdout",
     "output_type": "stream",
     "text": [
      "Enter the Lower limit: 150\n",
      "Enter the upper limit: 178\n",
      "153\n"
     ]
    }
   ],
   "source": [
    "a = int(input(\"Enter the Lower limit: \"))\n",
    "b = int(input(\"Enter the upper limit: \"))\n",
    "\n",
    "#this for loop is to traverse through the each value from lower to upper\n",
    "for i in range(a, b + 1):\n",
    "    # power of number\n",
    "    c = len(str(i))\n",
    "    \n",
    "    s = 0\n",
    "    t = i\n",
    "\n",
    "    #this while loop will calculate the armstrong value of i\n",
    "    while t > 0:\n",
    "        d = t % 10\n",
    "        s += d ** c\n",
    "        t //= 10\n",
    "    if i == s:\n",
    "        print(i)\n",
    "        \n",
    "            "
   ]
  },
  {
   "cell_type": "markdown",
   "metadata": {},
   "source": [
    "# "
   ]
  },
  {
   "cell_type": "markdown",
   "metadata": {},
   "source": [
    "##### 6. Write a Python Program to Find the Sum of Natural Numbers?"
   ]
  },
  {
   "cell_type": "code",
   "execution_count": 10,
   "metadata": {},
   "outputs": [
    {
     "name": "stdout",
     "output_type": "stream",
     "text": [
      "enter= -12\n",
      "Incorrect input\n",
      "enter= 1\n",
      "1\n"
     ]
    }
   ],
   "source": [
    "while True:\n",
    "    a=int(input('enter= '))\n",
    "    if a < 0:\n",
    "        print(\"Incorrect input\")\n",
    "        continue\n",
    "    else:\n",
    "        b=(a*(a+1))/2\n",
    "        print(int(b))\n",
    "        break"
   ]
  },
  {
   "cell_type": "code",
   "execution_count": 53,
   "metadata": {},
   "outputs": [
    {
     "name": "stdout",
     "output_type": "stream",
     "text": [
      "Enter the Lower limit: 1\n",
      "Enter the upper limit: 15\n",
      "1\n",
      "2\n",
      "3\n",
      "4\n",
      "5\n",
      "6\n",
      "7\n",
      "8\n",
      "9\n",
      "10\n",
      "11\n",
      "12\n",
      "13\n",
      "14\n",
      "15\n"
     ]
    }
   ],
   "source": [
    "lower = int(input(\"Enter the Lower limit: \"))\n",
    "upper = int(input(\"Enter the upper limit: \"))\n",
    "\n",
    "#this for loop is to traverse through the each value from lower to upper\n",
    "for i in range(lower, upper + 1):\n",
    "    # power of number\n",
    "    power = len(str(i))\n",
    "    print(i)\n",
    "    sum = 0\n",
    "    temp = i\n",
    "\n",
    "    #this while loop will calculate the armstrong value of i\n",
    "    while temp > 0:\n",
    "        digit = temp % 10\n",
    "        sum += digit ** power\n",
    "        temp //= 10\n",
    "    if i == sum:\n",
    "        print(i)"
   ]
  },
  {
   "cell_type": "code",
   "execution_count": null,
   "metadata": {},
   "outputs": [],
   "source": []
  }
 ],
 "metadata": {
  "kernelspec": {
   "display_name": "Python 3",
   "language": "python",
   "name": "python3"
  },
  "language_info": {
   "codemirror_mode": {
    "name": "ipython",
    "version": 3
   },
   "file_extension": ".py",
   "mimetype": "text/x-python",
   "name": "python",
   "nbconvert_exporter": "python",
   "pygments_lexer": "ipython3",
   "version": "3.8.5"
  }
 },
 "nbformat": 4,
 "nbformat_minor": 4
}
