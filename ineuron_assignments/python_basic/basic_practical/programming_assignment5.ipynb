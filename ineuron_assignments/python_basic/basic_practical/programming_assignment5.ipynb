{
 "cells": [
  {
   "cell_type": "markdown",
   "metadata": {},
   "source": [
    "##### 1. Write a Python Program to Find LCM?"
   ]
  },
  {
   "cell_type": "code",
   "execution_count": 75,
   "metadata": {},
   "outputs": [
    {
     "data": {
      "text/plain": [
       "40"
      ]
     },
     "execution_count": 75,
     "metadata": {},
     "output_type": "execute_result"
    }
   ],
   "source": [
    "def lcm1(x, y):\n",
    "\n",
    "   \n",
    "   if x > y:\n",
    "       t = x\n",
    "   else:\n",
    "       t = y\n",
    "\n",
    "   while(True):\n",
    "       if((t % x == 0) and (t % y == 0)):\n",
    "           lcm = t\n",
    "           break\n",
    "       t += 1\n",
    "\n",
    "   return lcm\n",
    "l=[]\n",
    "\n",
    "def numbers(*args):\n",
    "  \n",
    "   l.append(args)\n",
    "   for i in l:\n",
    "        p=len(i)\n",
    "        for j in range(0,p):\n",
    "            if j==p-1:\n",
    "                break\n",
    "                \n",
    "            else:\n",
    "                h=lcm1(i[j],i[j+1])\n",
    "   return h\n",
    "               \n",
    "                \n",
    "               \n",
    "                \n",
    "        \n",
    "numbers(2,5,8)\n"
   ]
  },
  {
   "cell_type": "code",
   "execution_count": null,
   "metadata": {},
   "outputs": [],
   "source": [
    "def find_lcm(num1, num2):\n",
    "    if(num1>num2):\n",
    "        num = num1\n",
    "        den = num2\n",
    "    else:\n",
    "        num = num2\n",
    "        den = num1\n",
    "    rem = num % den\n",
    "    while(rem != 0):\n",
    "        num = den\n",
    "        den = rem\n",
    "        rem = num % den\n",
    "    gcd = den\n",
    "    lcm = int(int(num1 * num2)/int(gcd))\n",
    "    return lcm\n",
    "     \n",
    "l = [2, 7, 3, 9, 4]\n",
    " \n",
    "num1 = l[0]\n",
    "num2 = l[1]\n",
    "lcm = find_lcm(num1, num2)\n",
    " \n",
    "for i in range(2, len(l)):\n",
    "    lcm = find_lcm(lcm, l[i])\n",
    "     \n",
    "print(lcm)\n",
    " "
   ]
  },
  {
   "cell_type": "markdown",
   "metadata": {},
   "source": [
    "###### 2. Write a Python Program to Find HCF?"
   ]
  },
  {
   "cell_type": "code",
   "execution_count": 76,
   "metadata": {},
   "outputs": [
    {
     "data": {
      "text/plain": [
       "3"
      ]
     },
     "execution_count": 76,
     "metadata": {},
     "output_type": "execute_result"
    }
   ],
   "source": [
    "def hcf(a,b):\n",
    "    if(b==0):\n",
    "        return a\n",
    "    else:\n",
    "        return gcd(b,a%b)\n",
    "\n",
    "\n",
    "\n",
    "\n",
    "l=[]\n",
    "\n",
    "def numbers(*args):\n",
    "  \n",
    "   l.append(args)\n",
    "   for i in l:\n",
    "        p=len(i)\n",
    "        for j in range(0,p):\n",
    "            if j==p-1:\n",
    "                break\n",
    "                \n",
    "            else:\n",
    "                h=hcf(i[j],i[j+1])\n",
    "   return h\n",
    "               \n",
    "                \n",
    "               \n",
    "                \n",
    "        \n",
    "numbers(3,6)"
   ]
  },
  {
   "cell_type": "markdown",
   "metadata": {},
   "source": [
    "###### 3. Write a Python Program to Convert Decimal to Binary, Octal and Hexadecimal?"
   ]
  },
  {
   "cell_type": "code",
   "execution_count": 83,
   "metadata": {},
   "outputs": [
    {
     "name": "stdout",
     "output_type": "stream",
     "text": [
      "Input decimal number: 10\n",
      "1010 in binary.\n",
      "12 in octal.\n",
      "a in hexadecimal.\n"
     ]
    }
   ],
   "source": [
    "a = int(input(\"Input decimal number: \"))\n",
    "print(bin(a)[2:], \"in binary.\")\n",
    "print(oct(a)[2:], \"in octal.\")\n",
    "print(hex(a)[2:], \"in hexadecimal.\")\n"
   ]
  },
  {
   "cell_type": "markdown",
   "metadata": {},
   "source": [
    "##### 4. Write a Python Program To Find ASCII value of a character?"
   ]
  },
  {
   "cell_type": "code",
   "execution_count": 90,
   "metadata": {},
   "outputs": [
    {
     "name": "stdout",
     "output_type": "stream",
     "text": [
      "input: t\n",
      "The ASCII value of 't' is 116\n"
     ]
    }
   ],
   "source": [
    "a = (input(\"input: \"))\n",
    "print(\"The ASCII value of '\" + a + \"' is\", ord(a))\n"
   ]
  },
  {
   "cell_type": "markdown",
   "metadata": {},
   "source": [
    "##### 5. Write a Python Program to Make a Simple Calculator with 4 basic mathematical operations?"
   ]
  },
  {
   "cell_type": "code",
   "execution_count": 94,
   "metadata": {},
   "outputs": [
    {
     "name": "stdout",
     "output_type": "stream",
     "text": [
      "Input number1: 1\n",
      "Input number2: 1413\n",
      "Input +,-,*,/: /\n",
      "division:0.0007077140835102619\n"
     ]
    }
   ],
   "source": [
    "a = float(input(\"Input number1: \"))\n",
    "b = float(input(\"Input number2: \"))\n",
    "c=(input(\"Input +,-,*,/: \"))\n",
    "\n",
    "if c=='+':\n",
    "    print(f'addition:{a+b}')\n",
    "elif c=='-':\n",
    "     print(f'subtraction:{a-b}')\n",
    "elif  c=='*':\n",
    "    print(f'multiplication:{a*b}')\n",
    "elif c==\"/\" :\n",
    "    print(f'division:{a/b}')\n",
    "else:\n",
    "    print('wrong input')"
   ]
  },
  {
   "cell_type": "code",
   "execution_count": null,
   "metadata": {},
   "outputs": [],
   "source": []
  }
 ],
 "metadata": {
  "kernelspec": {
   "display_name": "Python 3",
   "language": "python",
   "name": "python3"
  },
  "language_info": {
   "codemirror_mode": {
    "name": "ipython",
    "version": 3
   },
   "file_extension": ".py",
   "mimetype": "text/x-python",
   "name": "python",
   "nbconvert_exporter": "python",
   "pygments_lexer": "ipython3",
   "version": "3.8.5"
  }
 },
 "nbformat": 4,
 "nbformat_minor": 4
}
