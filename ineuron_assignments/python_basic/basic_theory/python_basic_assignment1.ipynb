{
 "cells": [
  {
   "cell_type": "raw",
   "metadata": {},
   "source": [
    "\n",
    "1.\t* = we use this operator for multiplication\n",
    "    ‘Hello’= is a string, it can be stored in a variable\n",
    "    -8.78= it is a negative float type number\n",
    "   - = we use this operator to subtract\n",
    "   /= we use this operator to divide\n",
    "    + =use it for addition\n",
    "   6 = is a positive integer\n",
    "2.\tString(‘spam’) is a set of categorical value which can be stored in a variable but variable(spam) is a storage place where we can store any type of value , whatever  it can be integers, floats, categorical values, or  Booleans .\n",
    "3.\tNumbers, Booleans, strings\n",
    "4.\tIt is a combination of different variables, functions, operators. They are used to give instruction what to do next.\n",
    "5.\t I can say expression is one type of value which can be stored in a variable but to store that variable I have to declare a variable mean I have to create a variable. We can also declare a function.\n",
    "6.\tAs we are not storing the new increased value of bacon in bacon itself it will remained the same as 22.\n",
    "7.\t‘spam’+’spamspam’=’spamspamspam’\n",
    "‘spam’*3=’spamspamspam’\n",
    "\n",
    "8.\tEggs can be a variable name because it is a categorical term but without quotation marks so python will consider it as a variable but 100 itself is a integer if we use it as a variable python compiler will get confused and hence we will get an error\n",
    "9.\tThey are int(), float(),str() respectively\n",
    "10.\twe can’t add an integer between two strings in that way, it can concatenate only strings so solve this we can update the expression as == “I have eaten’+str(99)+”burritos”. We are using integer as string so now it can concatenate everything.  \n"
   ]
  },
  {
   "cell_type": "code",
   "execution_count": null,
   "metadata": {},
   "outputs": [],
   "source": []
  }
 ],
 "metadata": {
  "kernelspec": {
   "display_name": "Python 3",
   "language": "python",
   "name": "python3"
  },
  "language_info": {
   "codemirror_mode": {
    "name": "ipython",
    "version": 3
   },
   "file_extension": ".py",
   "mimetype": "text/x-python",
   "name": "python",
   "nbconvert_exporter": "python",
   "pygments_lexer": "ipython3",
   "version": "3.7.6"
  }
 },
 "nbformat": 4,
 "nbformat_minor": 4
}
