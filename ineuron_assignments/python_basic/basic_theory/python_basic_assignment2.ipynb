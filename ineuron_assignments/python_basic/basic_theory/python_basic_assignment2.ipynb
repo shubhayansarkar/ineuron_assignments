{
 "cells": [
  {
   "cell_type": "raw",
   "metadata": {},
   "source": [
    "1. the 2 values are true and false. We can write it as True and Fasle or 1 and 0\n",
    "2. and,or,not\n",
    "3. \tAnd\n",
    "    0\t0\t0\n",
    "    0\t1\t0\n",
    "    1\t0\t0\n",
    "    1\t1\t1\n",
    "\n",
    "    Or\n",
    "    0\t0\t0\n",
    "    0\t1\t1\n",
    "    1\t0\t1\n",
    "    1\t1\t1\n",
    "\n",
    "    Not\n",
    "    0\t1\n",
    "    1\t0\n",
    "\n",
    "4. a) false  b)false  c)true  d)false  e)true  \n",
    "5. a) > b)< c)<= d) >= e) == f) != \n",
    "6. assignment operator is used to assign a value to a variable whereas equal to is used to compare two values whether they are same or not.\n",
    "     a=2\n",
    "      if a==2:\n",
    "         print(“its 2”)\n",
    "      else:\n",
    "          print(“its not 2”)\n",
    " \n",
    "7. a) print('eggs') b) print('bacon') c) print('ham'), print('spam'), print('spam')\n",
    "8.   spam=float(input('enter'))\n",
    "     if spam==1:\n",
    "        print('Hello')\n",
    "     elif spam==2:\n",
    "         print('Howdy')\n",
    "     else:\n",
    "         print('Greetings')\n",
    "\n",
    "9. Ctrl + C \n",
    "10. break is used to exit from a certain condition or loop whereas continue is used to skip a certain       chunks of code\n",
    "11. there is no difference between the results 3 though the expressions are different the meaning is       same\n",
    "12. a) for i in range(1,11):\n",
    "             print(i)\n",
    "    b)j=0\n",
    "    while j<10:\n",
    "        j=j+1\n",
    "        print(j)\n",
    "\n",
    "13. import spam\n",
    "    a=spam.bacon()"
   ]
  },
  {
   "cell_type": "code",
   "execution_count": null,
   "metadata": {},
   "outputs": [],
   "source": []
  },
  {
   "cell_type": "code",
   "execution_count": null,
   "metadata": {},
   "outputs": [],
   "source": []
  }
 ],
 "metadata": {
  "kernelspec": {
   "display_name": "Python 3",
   "language": "python",
   "name": "python3"
  },
  "language_info": {
   "codemirror_mode": {
    "name": "ipython",
    "version": 3
   },
   "file_extension": ".py",
   "mimetype": "text/x-python",
   "name": "python",
   "nbconvert_exporter": "python",
   "pygments_lexer": "ipython3",
   "version": "3.7.6"
  }
 },
 "nbformat": 4,
 "nbformat_minor": 4
}
